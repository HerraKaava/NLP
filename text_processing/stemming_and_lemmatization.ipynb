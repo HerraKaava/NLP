{
 "cells": [
  {
   "cell_type": "markdown",
   "id": "694691f0",
   "metadata": {},
   "source": [
    "- With basic word tokenization, each variation of a word will have its own vector component: \"walk\", \"walking\", \"walks\", \"walked\", ...\n",
    "\n",
    "- Note that \"walk\" is no closer to \"walking\" than it is to \"cartwheel\" (unless similarity can be learned from the data).\n",
    "\n",
    "- This leads to high-dimensional vectors in tokenization.\n",
    "\n",
    "- Practical issue: imagine we're building a search engine, and we wish to search for \"running\". Then, results that are associated with \"run\" or \"ran\" are also clearly associated with the intended search. However, the issue is that with basic word tokenization, these are not matched to the searched word \"running\".\n",
    "\n",
    "- Solution: convert words to their root word $\\, \\Rightarrow \\,$ Stemming & lemmatization"
   ]
  },
  {
   "cell_type": "markdown",
   "id": "73ee470a",
   "metadata": {},
   "source": [
    "<h3>Stemming</h3>"
   ]
  },
  {
   "cell_type": "markdown",
   "id": "f24177d2",
   "metadata": {},
   "source": [
    "- Stemming is a very crude method, it just chops off the end of the word.\n",
    "- The result is not necessarily a real word."
   ]
  },
  {
   "cell_type": "code",
   "execution_count": 1,
   "id": "d6efcd13",
   "metadata": {},
   "outputs": [],
   "source": [
    "from nltk.stem import PorterStemmer"
   ]
  },
  {
   "cell_type": "code",
   "execution_count": 2,
   "id": "75f972f9",
   "metadata": {},
   "outputs": [],
   "source": [
    "porter = PorterStemmer()"
   ]
  },
  {
   "cell_type": "code",
   "execution_count": 4,
   "id": "01c1572a",
   "metadata": {},
   "outputs": [
    {
     "data": {
      "text/plain": [
       "'walk'"
      ]
     },
     "execution_count": 4,
     "metadata": {},
     "output_type": "execute_result"
    }
   ],
   "source": [
    "porter.stem('walking')"
   ]
  },
  {
   "cell_type": "code",
   "execution_count": 5,
   "id": "5d6b79e2",
   "metadata": {},
   "outputs": [
    {
     "data": {
      "text/plain": [
       "'walk'"
      ]
     },
     "execution_count": 5,
     "metadata": {},
     "output_type": "execute_result"
    }
   ],
   "source": [
    "porter.stem('walk')"
   ]
  },
  {
   "cell_type": "code",
   "execution_count": 9,
   "id": "8a8bc346",
   "metadata": {},
   "outputs": [
    {
     "data": {
      "text/plain": [
       "'run'"
      ]
     },
     "execution_count": 9,
     "metadata": {},
     "output_type": "execute_result"
    }
   ],
   "source": [
    "porter.stem('Running')"
   ]
  },
  {
   "cell_type": "code",
   "execution_count": 10,
   "id": "8ca2298b",
   "metadata": {},
   "outputs": [
    {
     "data": {
      "text/plain": [
       "'hello i am marlon'"
      ]
     },
     "execution_count": 10,
     "metadata": {},
     "output_type": "execute_result"
    }
   ],
   "source": [
    "porter.stem('hello I am Marlon')"
   ]
  },
  {
   "cell_type": "code",
   "execution_count": 11,
   "id": "1d5e8faa",
   "metadata": {},
   "outputs": [
    {
     "data": {
      "text/plain": [
       "'replac'"
      ]
     },
     "execution_count": 11,
     "metadata": {},
     "output_type": "execute_result"
    }
   ],
   "source": [
    "porter.stem('replacement')"
   ]
  },
  {
   "cell_type": "markdown",
   "id": "758711cd",
   "metadata": {},
   "source": [
    "- Not a real word!"
   ]
  },
  {
   "cell_type": "markdown",
   "id": "0e1a3517",
   "metadata": {},
   "source": [
    "<h3>Lemmatization</h3>"
   ]
  },
  {
   "cell_type": "markdown",
   "id": "2f1eb4cf",
   "metadata": {},
   "source": [
    "- Lemmatization is more sophisticated, using actual rules of language.\n",
    "- The true root word will be returned.\n",
    "- Can be thought of as a *lookup table* / *table of rules*.\n",
    "- Note that with lemmatization, we cannot manipulate the converter to become better / worse, it simply comes from a database of words."
   ]
  },
  {
   "cell_type": "code",
   "execution_count": 6,
   "id": "e6d2e34b",
   "metadata": {},
   "outputs": [],
   "source": [
    "import nltk\n",
    "from nltk.corpus import wordnet\n",
    "from nltk.stem import WordNetLemmatizer"
   ]
  },
  {
   "cell_type": "code",
   "execution_count": 7,
   "id": "86c2e1ff",
   "metadata": {},
   "outputs": [
    {
     "name": "stderr",
     "output_type": "stream",
     "text": [
      "[nltk_data] Downloading package wordnet to\n",
      "[nltk_data]     /Users/herrakaava/nltk_data...\n"
     ]
    },
    {
     "data": {
      "text/plain": [
       "True"
      ]
     },
     "execution_count": 7,
     "metadata": {},
     "output_type": "execute_result"
    }
   ],
   "source": [
    "# Download the word database (the \"lookup table\")\n",
    "nltk.download('wordnet')"
   ]
  },
  {
   "cell_type": "code",
   "execution_count": 8,
   "id": "21b833f9",
   "metadata": {},
   "outputs": [],
   "source": [
    "lemmatizer = WordNetLemmatizer()"
   ]
  },
  {
   "cell_type": "code",
   "execution_count": 20,
   "id": "6224280a",
   "metadata": {},
   "outputs": [
    {
     "name": "stdout",
     "output_type": "stream",
     "text": [
      "mouse\n",
      "mice\n"
     ]
    }
   ],
   "source": [
    "print(lemmatizer.lemmatize('mice'))\n",
    "print(porter.stem('mice'))"
   ]
  },
  {
   "cell_type": "code",
   "execution_count": 23,
   "id": "2dc86f52",
   "metadata": {},
   "outputs": [
    {
     "name": "stdout",
     "output_type": "stream",
     "text": [
      "go\n",
      "go\n"
     ]
    }
   ],
   "source": [
    "print(lemmatizer.lemmatize('going', pos=wordnet.VERB))\n",
    "print(porter.stem('go'))"
   ]
  },
  {
   "cell_type": "markdown",
   "id": "8f57f7ac",
   "metadata": {},
   "source": [
    "- `pos` = The Part Of Speech tag. \n",
    "- Valid options are `\"n\"` for nouns, `\"v\"` for verbs, `\"a\"` for adjectives, `\"r\"` for adverbs and `\"s\"` for satellite adjectives.\n",
    "- This means that in order to properly use the lemmatizer, we should first fo POS tagging."
   ]
  },
  {
   "cell_type": "code",
   "execution_count": 56,
   "id": "93b005ae",
   "metadata": {},
   "outputs": [
    {
     "data": {
      "text/plain": [
       "'better'"
      ]
     },
     "execution_count": 56,
     "metadata": {},
     "output_type": "execute_result"
    }
   ],
   "source": [
    "lemmatizer.lemmatize('better')"
   ]
  },
  {
   "cell_type": "code",
   "execution_count": 61,
   "id": "ae6c6df9",
   "metadata": {},
   "outputs": [
    {
     "data": {
      "text/plain": [
       "'good'"
      ]
     },
     "execution_count": 61,
     "metadata": {},
     "output_type": "execute_result"
    }
   ],
   "source": [
    "lemmatizer.lemmatize('better', pos='a')"
   ]
  },
  {
   "cell_type": "code",
   "execution_count": 62,
   "id": "eb42fc4b",
   "metadata": {},
   "outputs": [],
   "source": [
    "s = \"Swimming is way more fun than running\""
   ]
  },
  {
   "cell_type": "code",
   "execution_count": 65,
   "id": "f905c963",
   "metadata": {},
   "outputs": [
    {
     "name": "stdout",
     "output_type": "stream",
     "text": [
      "swim is way more fun than run "
     ]
    }
   ],
   "source": [
    "for token in s.split():\n",
    "    print(porter.stem(token), end=' ')"
   ]
  },
  {
   "cell_type": "code",
   "execution_count": 67,
   "id": "c831e576",
   "metadata": {},
   "outputs": [
    {
     "name": "stdout",
     "output_type": "stream",
     "text": [
      "Swimming is way more fun than running "
     ]
    }
   ],
   "source": [
    "for token in s.split():\n",
    "    print(lemmatizer.lemmatize(token), end=' ')"
   ]
  },
  {
   "cell_type": "code",
   "execution_count": 66,
   "id": "9961e7cc",
   "metadata": {},
   "outputs": [
    {
     "name": "stdout",
     "output_type": "stream",
     "text": [
      "Swimming be way more fun than run "
     ]
    }
   ],
   "source": [
    "for token in s.split():\n",
    "    print(lemmatizer.lemmatize(token, pos=wordnet.VERB), end=' ')"
   ]
  },
  {
   "cell_type": "markdown",
   "id": "6f6e8eb8",
   "metadata": {},
   "source": [
    "We can't manually enter the correct tag for each word (e.g., 'a' for adjectives, 'n' for nouns, etc.). This needs to be handled automatically."
   ]
  },
  {
   "cell_type": "code",
   "execution_count": 68,
   "id": "269bfa9f",
   "metadata": {},
   "outputs": [],
   "source": [
    "def get_wordnet_pos(treebank_tag):\n",
    "    if treebank_tag.startswith('J'):\n",
    "        return wordnet.ADJ\n",
    "    elif treebank_tag.startswith('V'):\n",
    "        return wordnet.VERB\n",
    "    elif treebank_tag.startswith('N'):\n",
    "        return wordnet.NOUN\n",
    "    elif treebank_tag.startswith('R'):\n",
    "        return wordnet.ADV\n",
    "    else:\n",
    "        return wordnet.NOUN"
   ]
  },
  {
   "cell_type": "code",
   "execution_count": 74,
   "id": "ce9a5d4f",
   "metadata": {},
   "outputs": [
    {
     "name": "stderr",
     "output_type": "stream",
     "text": [
      "[nltk_data] Downloading package averaged_perceptron_tagger_eng to\n",
      "[nltk_data]     /Users/herrakaava/nltk_data...\n",
      "[nltk_data]   Unzipping taggers/averaged_perceptron_tagger_eng.zip.\n"
     ]
    },
    {
     "data": {
      "text/plain": [
       "True"
      ]
     },
     "execution_count": 74,
     "metadata": {},
     "output_type": "execute_result"
    }
   ],
   "source": [
    "nltk.download('averaged_perceptron_tagger_eng')"
   ]
  },
  {
   "cell_type": "code",
   "execution_count": 75,
   "id": "a7c86d56",
   "metadata": {},
   "outputs": [],
   "source": [
    "s2 = \"How is the stock market doing today\".split()"
   ]
  },
  {
   "cell_type": "code",
   "execution_count": 76,
   "id": "7807f340",
   "metadata": {},
   "outputs": [],
   "source": [
    "words_and_tags = nltk.pos_tag(s2)"
   ]
  },
  {
   "cell_type": "code",
   "execution_count": 77,
   "id": "6290b893",
   "metadata": {},
   "outputs": [
    {
     "data": {
      "text/plain": [
       "[('How', 'WRB'),\n",
       " ('is', 'VBZ'),\n",
       " ('the', 'DT'),\n",
       " ('stock', 'NN'),\n",
       " ('market', 'NN'),\n",
       " ('doing', 'VBG'),\n",
       " ('today', 'NN')]"
      ]
     },
     "execution_count": 77,
     "metadata": {},
     "output_type": "execute_result"
    }
   ],
   "source": [
    "words_and_tags"
   ]
  },
  {
   "cell_type": "code",
   "execution_count": 78,
   "id": "99c3a936",
   "metadata": {},
   "outputs": [
    {
     "name": "stdout",
     "output_type": "stream",
     "text": [
      "How be the stock market do today "
     ]
    }
   ],
   "source": [
    "for word, tag in words_and_tags:\n",
    "    lemma = lemmatizer.lemmatize(word, pos=get_wordnet_pos(tag))\n",
    "    print(lemma, end=' ')"
   ]
  }
 ],
 "metadata": {
  "kernelspec": {
   "display_name": "Python 3 (ipykernel)",
   "language": "python",
   "name": "python3"
  },
  "language_info": {
   "codemirror_mode": {
    "name": "ipython",
    "version": 3
   },
   "file_extension": ".py",
   "mimetype": "text/x-python",
   "name": "python",
   "nbconvert_exporter": "python",
   "pygments_lexer": "ipython3",
   "version": "3.13.2"
  }
 },
 "nbformat": 4,
 "nbformat_minor": 5
}
