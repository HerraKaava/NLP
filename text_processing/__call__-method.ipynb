{
 "cells": [
  {
   "cell_type": "markdown",
   "id": "09ecbb08",
   "metadata": {},
   "source": [
    "Python has a set of built-in methods and $\\, \\text{__call__} \\,$ is one of them. The $\\, \\text{__call__} \\,$ method enables Python programmers to write classes where the instances behave like functions and can be called like a function. When this method is defined, calling an object: `obj(arg1, arg2)`, it automatically triggers `obj.__call__(arg1, arg2)`. This makes objects behave like functions, enabling more flexible and reusable code."
   ]
  },
  {
   "cell_type": "code",
   "execution_count": 1,
   "id": "4876453c",
   "metadata": {},
   "outputs": [],
   "source": [
    "class SillyMoose:\n",
    "    def exponentiation(self, base, power):\n",
    "        return base**power"
   ]
  },
  {
   "cell_type": "code",
   "execution_count": 5,
   "id": "33940afd",
   "metadata": {},
   "outputs": [
    {
     "data": {
      "text/plain": [
       "25"
      ]
     },
     "execution_count": 5,
     "metadata": {},
     "output_type": "execute_result"
    }
   ],
   "source": [
    "sm = SillyMoose()\n",
    "sm.exponentiation(base=5, power=2)"
   ]
  },
  {
   "cell_type": "code",
   "execution_count": 6,
   "id": "01b815ee",
   "metadata": {},
   "outputs": [],
   "source": [
    "class SillyGoose:\n",
    "    def __call__(self, base, power):\n",
    "        return base**power"
   ]
  },
  {
   "cell_type": "code",
   "execution_count": 8,
   "id": "89961476",
   "metadata": {},
   "outputs": [
    {
     "data": {
      "text/plain": [
       "25"
      ]
     },
     "execution_count": 8,
     "metadata": {},
     "output_type": "execute_result"
    }
   ],
   "source": [
    "sg = SillyGoose()\n",
    "sg(base=5, power=2)"
   ]
  },
  {
   "cell_type": "markdown",
   "id": "c515e892",
   "metadata": {},
   "source": [
    "- Note that you cannot have multiple $\\, \\text{__call__} \\,$ methods in the same class (because method names must be unique inside a class).\n",
    "\n",
    "The $\\, \\text{__init__} \\,$ method is optional. You only define $\\, \\text{__init__} \\,$ if you want to initialize some attributes when the object is created."
   ]
  },
  {
   "cell_type": "code",
   "execution_count": 23,
   "id": "eb42450c",
   "metadata": {},
   "outputs": [],
   "source": [
    "class SmellyShelly:\n",
    "    def __init__(self, x):\n",
    "        self.x = x\n",
    "        \n",
    "    def __call__(self, base, power):\n",
    "        return base**power\n",
    "    \n",
    "    def reciprocal(self):\n",
    "        print(f'The reciprocal of {self.x} is {1 / self.x}')"
   ]
  },
  {
   "cell_type": "code",
   "execution_count": 24,
   "id": "c4169446",
   "metadata": {},
   "outputs": [],
   "source": [
    "obj = SmellyShelly(x=10)"
   ]
  },
  {
   "cell_type": "code",
   "execution_count": 25,
   "id": "ae324705",
   "metadata": {},
   "outputs": [
    {
     "data": {
      "text/plain": [
       "25"
      ]
     },
     "execution_count": 25,
     "metadata": {},
     "output_type": "execute_result"
    }
   ],
   "source": [
    "obj(base=5, power=2)"
   ]
  },
  {
   "cell_type": "code",
   "execution_count": 26,
   "id": "a4b9a556",
   "metadata": {},
   "outputs": [
    {
     "name": "stdout",
     "output_type": "stream",
     "text": [
      "The reciprocal of 10 is 0.1\n"
     ]
    }
   ],
   "source": [
    "obj.reciprocal()"
   ]
  }
 ],
 "metadata": {
  "kernelspec": {
   "display_name": "Python 3 (ipykernel)",
   "language": "python",
   "name": "python3"
  },
  "language_info": {
   "codemirror_mode": {
    "name": "ipython",
    "version": 3
   },
   "file_extension": ".py",
   "mimetype": "text/x-python",
   "name": "python",
   "nbconvert_exporter": "python",
   "pygments_lexer": "ipython3",
   "version": "3.13.2"
  }
 },
 "nbformat": 4,
 "nbformat_minor": 5
}
